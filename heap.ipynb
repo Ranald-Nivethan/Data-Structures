{
 "cells": [
  {
   "cell_type": "code",
   "execution_count": 16,
   "metadata": {},
   "outputs": [],
   "source": [
    "\n",
    "\n",
    "class Heap:\n",
    "    \n",
    "    def __init__(self):\n",
    "        self.CAPACITY = 10\n",
    "        self.heap_size = -1\n",
    "        self.heap = [0]*self.CAPACITY\n",
    "        \n",
    "    def insert(self, item):\n",
    "        \n",
    "        if self.heap_size == self.CAPACITY:\n",
    "            print(\"heap if full, cant add items\")\n",
    "            return\n",
    "        \n",
    "        self.heap_size = self.heap_size +1\n",
    "        self.heap[self.heap_size] = item\n",
    "        \n",
    "        self.fix_up(self.heap_size)\n",
    "    \n",
    "    def fix_up(self, index):\n",
    "        while index>0:\n",
    "            parent_index = (index - 1)//2\n",
    "            \n",
    "            if self.heap[index]>self.heap[parent_index]:\n",
    "                self.heap[index],self.heap[parent_index] = self.heap[parent_index] , self.heap[index]\n",
    "            index = parent_index\n",
    "    \n",
    "    # return max element\n",
    "    def peek(self):\n",
    "        return self.heap[0]\n",
    "    \n",
    "    # returns max and remove it aswell\n",
    "    def poll(self):\n",
    "        max_val = self.heap[0]\n",
    "        if self.heap_size==0:\n",
    "            self.heap.pop(0)\n",
    "        else:\n",
    "            self.heap[0],self.heap[self.heap_size] = self.heap[self.heap_size],self.heap[0]\n",
    "            self.heap.pop(self.heap_size)\n",
    "            self.heap_size-=1\n",
    "            \n",
    "            self.fix_down(0,self.heap_size)\n",
    "        return max_val\n",
    "    \n",
    "    def fix_down(self, index,tail):\n",
    "        left_index = 2*index+1\n",
    "        right_index = 2*index+2\n",
    "        \n",
    "        if left_index<=tail and right_index<=tail:\n",
    "            if self.heap[left_index]>=self.heap[right_index] and self.heap[index]<self.heap[left_index]:\n",
    "                self.heap[index],self.heap[left_index] = self.heap[left_index],self.heap[index]\n",
    "                index = left_index\n",
    "                self.fix_down(index,tail)\n",
    "                \n",
    "            if self.heap[right_index]>self.heap[left_index] and self.heap[index]<self.heap[right_index]:\n",
    "                self.heap[index],self.heap[right_index] = self.heap[right_index],self.heap[index] \n",
    "                index = right_index\n",
    "                self.fix_down(index,tail)\n",
    "            \n",
    "            \n",
    "            \n",
    "        elif left_index<=tail and right_index>tail:\n",
    "            if self.heap[left_index] > self.heap[index]:\n",
    "                self.heap[index],self.heap[left_index] = self.heap[left_index],self.heap[index]\n",
    "                index = left_index\n",
    "                \n",
    "                self.fix_down(index,tail)\n",
    "    \n",
    "    def heap_sort(self):\n",
    "        tail_index = self.heap_size\n",
    "        for i in range(self.heap_size+1):\n",
    "            print(self.heap[0])\n",
    "            if tail_index == 0:\n",
    "                break\n",
    "            else:\n",
    "                self.heap[0], self.heap[tail_index] = self.heap[tail_index],self.heap[0]\n",
    "                tail_index-=1\n",
    "                self.fix_down(0,tail_index)\n",
    "                \n",
    "    def reverse_heap(self):\n",
    "        size = (self.heap_size+1)//2\n",
    "        \n",
    "        for i in range(0,size):\n",
    "            self.heap[i],self.heap[self.heap_size-i] = self.heap[self.heap_size - i],self.heap[i]\n",
    "        \n",
    "               "
   ]
  },
  {
   "cell_type": "code",
   "execution_count": 18,
   "metadata": {},
   "outputs": [
    {
     "name": "stdout",
     "output_type": "stream",
     "text": [
      "[5, 4, 2, 1, 3, 0, 0, 0, 0, 0]\n",
      "5\n",
      "4\n",
      "3\n",
      "2\n",
      "1\n",
      "[1, 2, 3, 4, 5, 0, 0, 0, 0, 0]\n",
      "[5, 4, 3, 2, 1, 0, 0, 0, 0, 0]\n"
     ]
    }
   ],
   "source": [
    "if __name__==\"__main__\":\n",
    "    h = Heap()\n",
    "    h.insert(1)\n",
    "    h.insert(2)\n",
    "    h.insert(3)\n",
    "    h.insert(4)\n",
    "    h.insert(5)\n",
    "    print(h.heap)\n",
    "    h.heap_sort()\n",
    "    print(h.heap)\n",
    "    h.reverse_heap()\n",
    "    print(h.heap)"
   ]
  },
  {
   "cell_type": "code",
   "execution_count": 21,
   "metadata": {},
   "outputs": [
    {
     "name": "stdout",
     "output_type": "stream",
     "text": [
      "[-2, 1, 0, 7, 4, 3]\n",
      "-2\n",
      "0\n",
      "1\n",
      "3\n",
      "4\n",
      "7\n"
     ]
    }
   ],
   "source": [
    "import heapq\n",
    "\n",
    "#it is the minimum heap implementation\n",
    "heap=[4,7,3,-2,1,0]\n",
    "nums=[]\n",
    "heapq.heapify(heap)\n",
    "print(heap)\n",
    "\n",
    "for value in heap:\n",
    "    heapq.heappush(nums, value)\n",
    "\n",
    "while nums:\n",
    "    print(heapq.heappop(nums))"
   ]
  },
  {
   "cell_type": "code",
   "execution_count": null,
   "metadata": {},
   "outputs": [],
   "source": []
  }
 ],
 "metadata": {
  "kernelspec": {
   "display_name": "Python 3",
   "language": "python",
   "name": "python3"
  },
  "language_info": {
   "codemirror_mode": {
    "name": "ipython",
    "version": 3
   },
   "file_extension": ".py",
   "mimetype": "text/x-python",
   "name": "python",
   "nbconvert_exporter": "python",
   "pygments_lexer": "ipython3",
   "version": "3.7.6"
  }
 },
 "nbformat": 4,
 "nbformat_minor": 4
}
