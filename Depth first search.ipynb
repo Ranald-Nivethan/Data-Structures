{
 "cells": [
  {
   "cell_type": "code",
   "execution_count": 29,
   "metadata": {},
   "outputs": [],
   "source": [
    "class Node:\n",
    "    def __init__(self, name):\n",
    "        self.name = name\n",
    "        self.adj_list = []\n",
    "        self.visited = False\n",
    "        \n",
    "def DFS_iter(start_node):\n",
    "    stack = [start_node]\n",
    "    start_node.visited =True\n",
    "    \n",
    "    while stack:\n",
    "        actual_node = stack.pop()\n",
    "        print(actual_node.name)\n",
    "        \n",
    "        for n in actual_node.adj_list:\n",
    "            if n.visited == False:\n",
    "                n.visited =True\n",
    "                stack.append(n)\n",
    "                \n",
    "def DFS_recursion(start_node):\n",
    "    actual_node = start_node\n",
    "    if actual_node.visited == False:\n",
    "        print(actual_node.name)\n",
    "        actual_node.visited = True\n",
    "\n",
    "    if actual_node.adj_list != []:\n",
    "        for n in actual_node.adj_list:\n",
    "            if n.visited == False:\n",
    "                DFS_recursion(n)\n",
    "    \n",
    "    \n",
    "                \n",
    "\n",
    "        \n",
    "        "
   ]
  },
  {
   "cell_type": "code",
   "execution_count": 30,
   "metadata": {},
   "outputs": [
    {
     "name": "stdout",
     "output_type": "stream",
     "text": [
      "A\n",
      "B\n",
      "D\n",
      "C\n",
      "-------------------------------------\n",
      "A\n",
      "B\n",
      "C\n",
      "D\n"
     ]
    }
   ],
   "source": [
    "if __name__ == \"__main__\":\n",
    "    \n",
    "    A = Node('A')\n",
    "    B = Node('B')\n",
    "    C = Node('C')\n",
    "    D = Node('D')\n",
    "   \n",
    "    \n",
    "    A.adj_list.append(B)\n",
    "    B.adj_list.append(C)\n",
    "    B.adj_list.append(D)\n",
    "    C.adj_list.append(D)\n",
    "    \n",
    "    DFS_iter(A)\n",
    "    A.visited  = False\n",
    "    B.visited  = False\n",
    "    C.visited  = False\n",
    "    D.visited  = False\n",
    "    \n",
    "    \n",
    "    print(\"-------------------------------------\")\n",
    "    DFS_recursion(A)\n",
    "    "
   ]
  },
  {
   "cell_type": "code",
   "execution_count": null,
   "metadata": {},
   "outputs": [],
   "source": []
  }
 ],
 "metadata": {
  "kernelspec": {
   "display_name": "Python 3",
   "language": "python",
   "name": "python3"
  },
  "language_info": {
   "codemirror_mode": {
    "name": "ipython",
    "version": 3
   },
   "file_extension": ".py",
   "mimetype": "text/x-python",
   "name": "python",
   "nbconvert_exporter": "python",
   "pygments_lexer": "ipython3",
   "version": "3.7.6"
  }
 },
 "nbformat": 4,
 "nbformat_minor": 4
}
