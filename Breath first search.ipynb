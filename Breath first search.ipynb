{
 "cells": [
  {
   "cell_type": "code",
   "execution_count": 23,
   "metadata": {},
   "outputs": [],
   "source": [
    "class Node:\n",
    "    def __init__(self, data):\n",
    "        self.data = data\n",
    "        self.adj_list = []\n",
    "        self.visited = False\n",
    "        \n",
    "def BFS(start_node):\n",
    "    queue = [start_node]\n",
    "    start_node.visited = True\n",
    "    \n",
    "    while queue:\n",
    "        actual_node = queue.pop(0)\n",
    "        print(actual_node.data)\n",
    "        \n",
    "        for i in actual_node.adj_list:\n",
    "            #print(i.data, end=' ')\n",
    "            #print(i.visited)\n",
    "            if i.visited == False:\n",
    "                i.visited = True\n",
    "                queue.append(i)\n",
    "                \n",
    "        \n",
    "        "
   ]
  },
  {
   "cell_type": "code",
   "execution_count": 22,
   "metadata": {},
   "outputs": [
    {
     "name": "stdout",
     "output_type": "stream",
     "text": [
      "A\n",
      "B\n",
      "C\n",
      "D\n"
     ]
    }
   ],
   "source": [
    "if __name__ == '__main__':\n",
    "    A = Node('A')\n",
    "    B = Node('B')\n",
    "    C = Node('C')\n",
    "    D = Node('D')\n",
    "    \n",
    "    A.adj_list.append(B)\n",
    "    B.adj_list.append(C)\n",
    "    B.adj_list.append(D)\n",
    "    C.adj_list.append(D)\n",
    "    \n",
    "    BFS(A)"
   ]
  },
  {
   "cell_type": "code",
   "execution_count": null,
   "metadata": {},
   "outputs": [],
   "source": []
  }
 ],
 "metadata": {
  "kernelspec": {
   "display_name": "Python 3",
   "language": "python",
   "name": "python3"
  },
  "language_info": {
   "codemirror_mode": {
    "name": "ipython",
    "version": 3
   },
   "file_extension": ".py",
   "mimetype": "text/x-python",
   "name": "python",
   "nbconvert_exporter": "python",
   "pygments_lexer": "ipython3",
   "version": "3.7.6"
  }
 },
 "nbformat": 4,
 "nbformat_minor": 4
}
