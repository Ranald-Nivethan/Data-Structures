{
 "cells": [
  {
   "cell_type": "code",
   "execution_count": 1,
   "metadata": {},
   "outputs": [],
   "source": [
    "class HashTable:\n",
    "    \n",
    "    def __init__(self):\n",
    "        self.capacity = 10\n",
    "        self.keys = [None]*self.capacity\n",
    "        self.values = [None]*self.capacity\n",
    "        \n",
    "    def insert(self,key,data):\n",
    "        index = self.hash_function(key)\n",
    "        \n",
    "        while self.keys[index] is not None:\n",
    "            if self.keys[index]==key:\n",
    "                self.values[index] = data\n",
    "                return\n",
    "            \n",
    "            index = (index+1)%self.capacity\n",
    "            \n",
    "        self.keys[index] = key\n",
    "        self.values[index] = data\n",
    "        \n",
    "    \n",
    "    def get(self,key):\n",
    "        index = self.hash_function(key)\n",
    "        \n",
    "        while self.keys[index] is not None:\n",
    "            if self.keys[index] == key:\n",
    "                return self.values[index]\n",
    "            \n",
    "            index = (index+1)%self.capacity\n",
    "            \n",
    "        return None\n",
    "        \n",
    "        \n",
    "    def hash_function(self,key):\n",
    "        hash_sum=0\n",
    "        \n",
    "        for letter in key:\n",
    "            hash_sum += ord(letter)\n",
    "            \n",
    "        return hash_sum%self.capacity\n",
    "        "
   ]
  },
  {
   "cell_type": "code",
   "execution_count": null,
   "metadata": {},
   "outputs": [],
   "source": [
    "if __name__==\"__main__\":\n",
    "    \n",
    "    table = HashTable()\n",
    "    "
   ]
  }
 ],
 "metadata": {
  "kernelspec": {
   "display_name": "Python 3",
   "language": "python",
   "name": "python3"
  },
  "language_info": {
   "codemirror_mode": {
    "name": "ipython",
    "version": 3
   },
   "file_extension": ".py",
   "mimetype": "text/x-python",
   "name": "python",
   "nbconvert_exporter": "python",
   "pygments_lexer": "ipython3",
   "version": "3.7.6"
  }
 },
 "nbformat": 4,
 "nbformat_minor": 4
}
